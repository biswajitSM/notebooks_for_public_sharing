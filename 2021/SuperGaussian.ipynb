{
 "cells": [
  {
   "cell_type": "code",
   "execution_count": 2,
   "id": "c024f328",
   "metadata": {
    "ExecuteTime": {
     "end_time": "2021-08-12T12:17:36.243472Z",
     "start_time": "2021-08-12T12:17:30.996155Z"
    }
   },
   "outputs": [],
   "source": [
    "import matplotlib.pyplot as plt\n",
    "import numpy as np"
   ]
  },
  {
   "cell_type": "code",
   "execution_count": 15,
   "id": "2eca3802",
   "metadata": {
    "ExecuteTime": {
     "end_time": "2021-08-12T12:34:01.668700Z",
     "start_time": "2021-08-12T12:34:01.656666Z"
    }
   },
   "outputs": [],
   "source": [
    "def find_ends_supergauss(line_data, gauss_length=10, threshold_Imax=0.5, plotting=True):\n",
    "    xdata = np.arange(len(line_data))\n",
    "    line_data_temp = line_data\n",
    "    line_data = np.array([float(value)/max(line_data_temp) for value in line_data_temp])\n",
    "    initial_guess = [.2,1.,np.median(xdata),gauss_length, 6]\n",
    "    constraints =([0, 0, 0, gauss_length, 0.],[np.inf, np.inf, np.inf, np.inf, np.inf])\n",
    "    popt, pcov = curve_fit(super_gauss_function, xdata, line_data,\n",
    "                           p0 = initial_guess, bounds = constraints)\n",
    "    fine_scale_x = np.linspace(xdata[0],xdata[-1],len(xdata)*1000)\n",
    "    maximum = max(super_gauss_function( xdata, *popt))\n",
    "    #--- this is the threshold\n",
    "    intersection_value = maximum-(maximum - popt[0])*threshold_Imax\n",
    "    linedata = [intersection_value for x in fine_scale_x]\n",
    "    index = np.argwhere(np.diff(np.sign(linedata - super_gauss_function(fine_scale_x, *popt)))).flatten()\n",
    "    index_intersection = [fine_scale_x[index[0]], fine_scale_x[index[1]]]\n",
    "    # index_intersection = [int(fine_scale_x[index[0]]), int(fine_scale_x[index[1]])]\n",
    "    #-- Here is where we ensure two crossings and select for length\n",
    "    if len(index)==2 and plotting: \n",
    "        plt.plot(xdata, line_data)\n",
    "        plt.plot(fine_scale_x, super_gauss_function(fine_scale_x, *popt), 'g--')\n",
    "        plt.plot(index_intersection,\n",
    "                super_gauss_function([fine_scale_x[index[0]],fine_scale_x[index[1]]], *popt), 'ro')\n",
    "        plt.show()\n",
    "    return index_intersection\n",
    "\n",
    "\n",
    "def super_gauss_function(x, floor, amplitude, mean, sigma, power):\n",
    "    '''https://en.wikipedia.org/wiki/Gaussian_function'''\n",
    "    return floor + amplitude*np.exp((-((x-mean)**2/(2*sigma**2))**power))\n",
    "def plotplay_supergauss(floor=1, amplitude=1, mean=10, sigma=2, power=5):\n",
    "    fig, ax = plt.subplots()\n",
    "    x = np.linspace(mean - 3 * sigma, mean + 3 * sigma, 100)\n",
    "    y_gauss = super_gauss_function(x, floor, amplitude, mean, sigma, power)\n",
    "    ax.plot(x, y_gauss)\n",
    "    ax.set_xlabel('pixels')\n",
    "    ax.set_label('Intensity')\n",
    "    ax.set_title('Super Gaussian')\n",
    "    ax.grid(True)"
   ]
  },
  {
   "cell_type": "code",
   "execution_count": 18,
   "id": "1078b16f",
   "metadata": {
    "ExecuteTime": {
     "end_time": "2021-08-12T12:35:14.248241Z",
     "start_time": "2021-08-12T12:35:14.060243Z"
    }
   },
   "outputs": [
    {
     "data": {
      "application/vnd.jupyter.widget-view+json": {
       "model_id": "cb6c4c10db3b405fbc99c0c295be70e4",
       "version_major": 2,
       "version_minor": 0
      },
      "text/plain": [
       "interactive(children=(IntSlider(value=1, description='floor', max=10), IntSlider(value=1, description='amplitu…"
      ]
     },
     "metadata": {},
     "output_type": "display_data"
    }
   ],
   "source": [
    "from ipywidgets import interact, interactive\n",
    "interact(plotplay_supergauss, floor=(0, 10), amplitude=(0, 10), mean=(1, 100), sigma=(1, 10), power=(0, 100),\n",
    "         continuous_update=False);"
   ]
  },
  {
   "cell_type": "code",
   "execution_count": null,
   "id": "1eaf2f34",
   "metadata": {},
   "outputs": [],
   "source": []
  }
 ],
 "metadata": {
  "kernelspec": {
   "display_name": "Python 3",
   "language": "python",
   "name": "python3"
  },
  "language_info": {
   "codemirror_mode": {
    "name": "ipython",
    "version": 3
   },
   "file_extension": ".py",
   "mimetype": "text/x-python",
   "name": "python",
   "nbconvert_exporter": "python",
   "pygments_lexer": "ipython3",
   "version": "3.8.8"
  }
 },
 "nbformat": 4,
 "nbformat_minor": 5
}
